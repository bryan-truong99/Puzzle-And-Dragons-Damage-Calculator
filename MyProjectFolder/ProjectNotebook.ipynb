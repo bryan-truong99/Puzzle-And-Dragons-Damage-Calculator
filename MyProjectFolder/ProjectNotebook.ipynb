{
 "cells": [
  {
   "cell_type": "markdown",
   "metadata": {},
   "source": [
    "# Puzzle and Dragons Damage Calculator\n"
   ]
  },
  {
   "cell_type": "markdown",
   "metadata": {},
   "source": [
    "\n",
    "    \n",
    "   This project is a calculator that is used to calculate an individual monster's damage output.\n",
    "It takes combos, damage awakenings, damage skills, and leader skills into account, and multiplies all\n",
    "of these values together. I decided to do this project as Puzzle and Dragons is a game I play very often, \n",
    "so I thought it would be useful to be able to find out how much a single monster could do alone. \n"
   ]
  },
  {
   "cell_type": "code",
   "execution_count": 1,
   "metadata": {},
   "outputs": [],
   "source": [
    "from my_module.functions import \\\n",
    "card_identity, combo_multiplier, damage_awakenings, damage_enhancing_skills, total_attack_damage"
   ]
  },
  {
   "cell_type": "code",
   "execution_count": 4,
   "metadata": {},
   "outputs": [
    {
     "name": "stdout",
     "output_type": "stream",
     "text": [
      "What is the name of your monster? Black Dragon, Fatalis\n",
      "Your card's attack value is 4000\n",
      "How many combos were done? 20\n",
      "How many combos of your monster's specific attribute were done? 10\n",
      "How many enhanced orbs are in your combo? 3\n",
      "Your combo multiplier is 67.85\n",
      "How many of each damage awakening does your monster have in this order?(Assuming that all conditions are met. Input each amount with a space in between each value) TPA, 7c, 10c, Row Enhance, 80% or more HP enhance, 50% or less HP enhance, L attack, VDP, SFUA 0 0 0 0 0 0 3 2 0\n",
      "Your total multiplier from your monster's damage awakenings is 21.09375\n",
      "Were any damage enhance skills used? If so, what is the multiplier? 2\n",
      "Your damage multiplier is 2\n",
      "What is the cumulative multiplier of your leaders? 169\n",
      "Your damage multiplier is 169\n",
      "Your monster's total damage output will be 20408173461.914062\n"
     ]
    }
   ],
   "source": [
    "#Asks for monster name and stores return value for later use.\n",
    "monster_name1= input(\"What is the name of your monster? \")\n",
    "\n",
    "attack_value1=card_identity(monster_name1)\n",
    "\n",
    "#Asks for amount of combos, specific attribute combos, and orb enhance.\n",
    "#Operates on values and stores return value for later use.\n",
    "combo=input(\"How many combos were done? \")\n",
    "\n",
    "specific_color_combo=input(\"How many combos of your monster's specific attribute were done? \")\n",
    "\n",
    "orbenhance=input(\"How many enhanced orbs are in your combo? \")\n",
    "\n",
    "total_combo_multiplier1= combo_multiplier(combo, specific_color_combo, orbenhance)\n",
    "\n",
    "#Asks for monster's damage awakenings, which each have a respective multiplier.\n",
    "#Operates on values and stores return value for later use.\n",
    "damageawaken=input(\"How many of each damage awakening does your monster have in this order?\"\n",
    "                   \"(Assuming that all conditions are met. Input each amount with a space in between each value) \"\n",
    "                   \"TPA, 7c, 10c, Row Enhance, 80% or more HP enhance, 50% or less HP enhance, L attack, VDP, SFUA \")\n",
    "\n",
    "damage_awakening_multiplier1=damage_awakenings(damageawaken)\n",
    "\n",
    "#Asks for damage enhance skills used and stores return value for later use.\n",
    "damageskills=input(\"Were any damage enhance skills used? If so, what is the multiplier? \")\n",
    "\n",
    "damage_enhance_multiplier1=damage_enhancing_skills(damageskills)\n",
    "\n",
    "#Asks for leader skill multiplier and stores return value for later use.\n",
    "leaderskillmultiplier=input(\"What is the cumulative multiplier of your leaders? \")\n",
    "\n",
    "leader_skill_multiplier1=damage_enhancing_skills(leaderskillmultiplier)\n",
    "\n",
    "#Multiplies all of the stored return values together to return the total damage output.\n",
    "total_damage_output=total_attack_damage(attack_value1, total_combo_multiplier1, \n",
    "                                        damage_awakening_multiplier1, \n",
    "                                        damage_awakening_multiplier1, \n",
    "                                        leader_skill_multiplier1)\n"
   ]
  }
 ],
 "metadata": {
  "kernelspec": {
   "display_name": "Python 3",
   "language": "python",
   "name": "python3"
  },
  "language_info": {
   "codemirror_mode": {
    "name": "ipython",
    "version": 3
   },
   "file_extension": ".py",
   "mimetype": "text/x-python",
   "name": "python",
   "nbconvert_exporter": "python",
   "pygments_lexer": "ipython3",
   "version": "3.6.7"
  }
 },
 "nbformat": 4,
 "nbformat_minor": 2
}
